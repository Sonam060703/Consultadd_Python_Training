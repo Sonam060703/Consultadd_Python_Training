{
  "nbformat": 4,
  "nbformat_minor": 0,
  "metadata": {
    "colab": {
      "provenance": [],
      "authorship_tag": "ABX9TyPkwSyCiNFttWvooTtm6H5x",
      "include_colab_link": true
    },
    "kernelspec": {
      "name": "python3",
      "display_name": "Python 3"
    },
    "language_info": {
      "name": "python"
    }
  },
  "cells": [
    {
      "cell_type": "markdown",
      "metadata": {
        "id": "view-in-github",
        "colab_type": "text"
      },
      "source": [
        "<a href=\"https://colab.research.google.com/github/Sonam060703/Consultadd_Python_Training/blob/main/Exercise1.ipynb\" target=\"_parent\"><img src=\"https://colab.research.google.com/assets/colab-badge.svg\" alt=\"Open In Colab\"/></a>"
      ]
    },
    {
      "cell_type": "markdown",
      "source": [
        "What is 7 to the power of 4 ?"
      ],
      "metadata": {
        "id": "C0I-zwdlIqsN"
      }
    },
    {
      "cell_type": "code",
      "source": [
        "print(7**4)"
      ],
      "metadata": {
        "colab": {
          "base_uri": "https://localhost:8080/"
        },
        "id": "Il6EkwuuI1BK",
        "outputId": "b29730d6-9988-4010-eb17-5907eac8ff88"
      },
      "execution_count": null,
      "outputs": [
        {
          "output_type": "stream",
          "name": "stdout",
          "text": [
            "2401\n"
          ]
        }
      ]
    },
    {
      "cell_type": "markdown",
      "source": [
        "Split the string into a list:\n",
        "**s = \"Hi there Sam!\"**"
      ],
      "metadata": {
        "id": "fnaCcyqbJBI1"
      }
    },
    {
      "cell_type": "code",
      "source": [
        "s = \"Hi there Sam!\"\n",
        "lst = s.split()\n",
        "print(lst)"
      ],
      "metadata": {
        "colab": {
          "base_uri": "https://localhost:8080/"
        },
        "id": "G1GMpR2uJ4LP",
        "outputId": "ccc2bc93-8801-4db4-93f5-f6545be55bfd"
      },
      "execution_count": null,
      "outputs": [
        {
          "output_type": "stream",
          "name": "stdout",
          "text": [
            "['Hi', 'there', 'Sam!']\n"
          ]
        }
      ]
    },
    {
      "cell_type": "markdown",
      "source": [
        "Given the variables:"
      ],
      "metadata": {
        "id": "NKQZ2mx3KE3y"
      }
    },
    {
      "cell_type": "markdown",
      "source": [
        "\n",
        "\n",
        "```\n",
        "planet = \"Earth\"\n",
        "diameter = 12742\n",
        "```\n",
        "\n"
      ],
      "metadata": {
        "id": "sSyFlOtCN6RI"
      }
    },
    {
      "cell_type": "markdown",
      "source": [
        "**Use .format() to print the following string:**"
      ],
      "metadata": {
        "id": "lWw_pBMvODKg"
      }
    },
    {
      "cell_type": "markdown",
      "source": [
        "\n",
        "\n",
        "```\n",
        "The diameter of Earth is 12742 kilometers.\n",
        "```\n",
        "\n"
      ],
      "metadata": {
        "id": "Wwog8WAfPvVK"
      }
    },
    {
      "cell_type": "code",
      "source": [
        "planet = \"Earth\"\n",
        "diameter = 12742\n",
        "output = \"The diameter of {} is {} kilometers.\".format(planet, diameter)\n",
        "print(output)"
      ],
      "metadata": {
        "colab": {
          "base_uri": "https://localhost:8080/"
        },
        "id": "Uppr58UNP4_b",
        "outputId": "f452cc3c-aaac-4099-e173-8e49d11ffcff"
      },
      "execution_count": 3,
      "outputs": [
        {
          "output_type": "stream",
          "name": "stdout",
          "text": [
            "The diameter of Earth is 12742 kilometers.\n"
          ]
        }
      ]
    },
    {
      "cell_type": "markdown",
      "source": [
        "**Given this nested list, use indexing to grab the word \"hello\"**"
      ],
      "metadata": {
        "id": "CwFWO-ovRajL"
      }
    },
    {
      "cell_type": "code",
      "source": [
        "lst = [1,2,[3,4],[5,[100,200,['hello']],23,11],1,7]\n",
        "print(lst[3][1][2][0]) ;"
      ],
      "metadata": {
        "colab": {
          "base_uri": "https://localhost:8080/"
        },
        "id": "Tm4is3maR6ES",
        "outputId": "358f49c9-6581-4475-bb9f-b0c65910df11"
      },
      "execution_count": 5,
      "outputs": [
        {
          "output_type": "stream",
          "name": "stdout",
          "text": [
            "hello\n"
          ]
        }
      ]
    },
    {
      "cell_type": "markdown",
      "source": [
        "**What is the main difference between a tuple and a list?**"
      ],
      "metadata": {
        "id": "yAQtzko2SmDm"
      }
    },
    {
      "cell_type": "code",
      "source": [
        "# List: Mutable → We can modify, add, or remove elements.\n",
        "# Tuple: Immutable → Once created, it cannot be changed.\n"
      ],
      "metadata": {
        "id": "WkRzEI6PTfgE"
      },
      "execution_count": null,
      "outputs": []
    },
    {
      "cell_type": "markdown",
      "source": [
        "**Create a function that grabs the email website domain from a string in the form: **"
      ],
      "metadata": {
        "id": "2fNOwSnsTuBb"
      }
    },
    {
      "cell_type": "code",
      "source": [
        "email = input(\"Enter Email: \")"
      ],
      "metadata": {
        "colab": {
          "base_uri": "https://localhost:8080/"
        },
        "id": "4BuADRwhUEGM",
        "outputId": "3ba1bd45-2cd3-44a8-cbc8-e1c210fc73aa"
      },
      "execution_count": 6,
      "outputs": [
        {
          "name": "stdout",
          "output_type": "stream",
          "text": [
            "Enter Email: sonam@consultadd.com\n"
          ]
        }
      ]
    },
    {
      "cell_type": "markdown",
      "source": [
        "**So for example, passing \"user@domain.com\" would return: domain.com**"
      ],
      "metadata": {
        "id": "OyLNYl8qULUd"
      }
    },
    {
      "cell_type": "code",
      "source": [
        "def domainGet(email):\n",
        "  return email.split('@')[1]"
      ],
      "metadata": {
        "id": "A-UfLJQ3UQzm"
      },
      "execution_count": 7,
      "outputs": []
    },
    {
      "cell_type": "code",
      "source": [
        "print(domainGet(email))"
      ],
      "metadata": {
        "colab": {
          "base_uri": "https://localhost:8080/"
        },
        "id": "Qu0FPZ6mU0Xj",
        "outputId": "4b09cfe7-a43a-488a-e1a0-fb0175bb0674"
      },
      "execution_count": 8,
      "outputs": [
        {
          "output_type": "stream",
          "name": "stdout",
          "text": [
            "consultadd.com\n"
          ]
        }
      ]
    },
    {
      "cell_type": "markdown",
      "source": [
        "**Create a basic function that returns True if the word 'dog' is contained in the input string. Don't worry about edge cases like a punctuation being attached to the word dog, but do account for capitalization.**"
      ],
      "metadata": {
        "id": "9PXJh5laVlos"
      }
    },
    {
      "cell_type": "code",
      "source": [
        "s = input(\"Enter String: \")"
      ],
      "metadata": {
        "colab": {
          "base_uri": "https://localhost:8080/"
        },
        "id": "9XDH4FKtV28N",
        "outputId": "d89607f7-ef40-4745-d537-183b9a39b6e9"
      },
      "execution_count": 1,
      "outputs": [
        {
          "name": "stdout",
          "output_type": "stream",
          "text": [
            "Enter String: I love my dog!\n"
          ]
        }
      ]
    },
    {
      "cell_type": "code",
      "source": [
        "def contains_dog(s):\n",
        "  return 'dog' in s.lower()"
      ],
      "metadata": {
        "id": "O8bWktoRV8FW"
      },
      "execution_count": 2,
      "outputs": []
    },
    {
      "cell_type": "code",
      "source": [
        "print(contains_dog(s)) ;"
      ],
      "metadata": {
        "colab": {
          "base_uri": "https://localhost:8080/"
        },
        "id": "7ykvA6YLWDah",
        "outputId": "09a11519-dbb6-4cce-df75-c7c35096c76c"
      },
      "execution_count": 3,
      "outputs": [
        {
          "output_type": "stream",
          "name": "stdout",
          "text": [
            "True\n"
          ]
        }
      ]
    },
    {
      "cell_type": "markdown",
      "source": [
        "**Create a function that counts the number of times the word \"dog\" occurs in a string. Again ignore edge cases. **"
      ],
      "metadata": {
        "id": "maJLEeh_wyMq"
      }
    },
    {
      "cell_type": "code",
      "source": [
        "str = input(\"Enter string: \")"
      ],
      "metadata": {
        "colab": {
          "base_uri": "https://localhost:8080/"
        },
        "id": "9tya_AS3w7Ws",
        "outputId": "767083f1-818e-4aeb-cb67-6b33cbc8aa17"
      },
      "execution_count": 1,
      "outputs": [
        {
          "name": "stdout",
          "output_type": "stream",
          "text": [
            "Enter string: This dog runs faster than the outer dog dude!\n"
          ]
        }
      ]
    },
    {
      "cell_type": "code",
      "source": [
        "def countDog(str):\n",
        "  return str.lower().split().count('dog')"
      ],
      "metadata": {
        "id": "nJbc32-cxF-N"
      },
      "execution_count": 4,
      "outputs": []
    },
    {
      "cell_type": "code",
      "source": [
        "print(countDog(str))"
      ],
      "metadata": {
        "colab": {
          "base_uri": "https://localhost:8080/"
        },
        "id": "BQtI6-JKxogu",
        "outputId": "2e1c6ce0-9772-43e3-e033-e6984c621176"
      },
      "execution_count": 5,
      "outputs": [
        {
          "output_type": "stream",
          "name": "stdout",
          "text": [
            "2\n"
          ]
        }
      ]
    },
    {
      "cell_type": "markdown",
      "source": [
        "Use lambda expressions and the filter() function to filter out words from a list that don't start with the letter 's'. For example:"
      ],
      "metadata": {
        "id": "Teh74Hyhyhbl"
      }
    },
    {
      "cell_type": "markdown",
      "source": [
        "\n",
        "\n",
        "```\n",
        "seq = ['soup','dog','salad','cat','great']\n",
        "```\n",
        "\n"
      ],
      "metadata": {
        "id": "FXkhZ2T7yjdN"
      }
    },
    {
      "cell_type": "markdown",
      "source": [
        "should be filtered down to:"
      ],
      "metadata": {
        "id": "tm8JJ1RoytU4"
      }
    },
    {
      "cell_type": "markdown",
      "source": [
        "\n",
        "\n",
        "```\n",
        "['soup','salad']\n",
        "```\n",
        "\n"
      ],
      "metadata": {
        "id": "PpPk0dqGyzNf"
      }
    },
    {
      "cell_type": "code",
      "source": [
        "seq = ['soup','dog','salad','cat','great']"
      ],
      "metadata": {
        "id": "d26JI13Ly483"
      },
      "execution_count": 7,
      "outputs": []
    },
    {
      "cell_type": "code",
      "source": [
        "filtered_seq = list(filter(lambda word: word.startswith('s'), seq))\n",
        "print(filtered_seq)"
      ],
      "metadata": {
        "colab": {
          "base_uri": "https://localhost:8080/"
        },
        "id": "HCkBbNqpzDxR",
        "outputId": "8246f73b-8787-4ae1-9782-8267cb9864a7"
      },
      "execution_count": 8,
      "outputs": [
        {
          "output_type": "stream",
          "name": "stdout",
          "text": [
            "['soup', 'salad']\n"
          ]
        }
      ]
    },
    {
      "cell_type": "markdown",
      "source": [
        "You are driving a little too fast, and a police officer stops you. Write a function\n",
        "  to return one of 3 possible results: \"No ticket\", \"Small ticket\", or \"Big Ticket\".\n",
        "  If your speed is 60 or less, the result is \"No Ticket\". If speed is between 61\n",
        "  and 80 inclusive, the result is \"Small Ticket\". If speed is 81 or more, the result is \"Big    Ticket\". Unless it is your birthday (encoded as a boolean value in the parameters of the function) -- on your birthday, your speed can be 5 higher in all\n",
        "  cases."
      ],
      "metadata": {
        "id": "qgjBj47_8OjT"
      }
    },
    {
      "cell_type": "code",
      "source": [
        "speed = int(input(\"Enter speed: \"))\n",
        "birthday = bool(input(\"Is it your birthday? : \"))"
      ],
      "metadata": {
        "colab": {
          "base_uri": "https://localhost:8080/"
        },
        "id": "9JOzz5p88SZt",
        "outputId": "4c28008e-7766-46cc-d9c1-d763da16a872"
      },
      "execution_count": 12,
      "outputs": [
        {
          "name": "stdout",
          "output_type": "stream",
          "text": [
            "Enter speed: 65\n",
            "Is it your birthday? : True\n"
          ]
        }
      ]
    },
    {
      "cell_type": "code",
      "source": [
        "def caught_speeding(speed , birthday):\n",
        "  if birthday:\n",
        "    speed = speed - 5\n",
        "  if speed <= 60:\n",
        "    return \"No Ticket\"\n",
        "  elif speed > 60:\n",
        "    return \"Small Ticket\"\n",
        "  else:\n",
        "    return \"Big Ticket\""
      ],
      "metadata": {
        "id": "4KYSD4eL8mWa"
      },
      "execution_count": 13,
      "outputs": []
    },
    {
      "cell_type": "code",
      "source": [
        "print(caught_speeding(speed , birthday))"
      ],
      "metadata": {
        "colab": {
          "base_uri": "https://localhost:8080/"
        },
        "id": "F-Ny225n9I8X",
        "outputId": "44bc546a-f330-4085-c608-538c87e7cba1"
      },
      "execution_count": 14,
      "outputs": [
        {
          "output_type": "stream",
          "name": "stdout",
          "text": [
            "No Ticket\n"
          ]
        }
      ]
    }
  ]
}