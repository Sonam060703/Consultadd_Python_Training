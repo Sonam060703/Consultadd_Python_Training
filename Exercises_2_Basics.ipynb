{
  "nbformat": 4,
  "nbformat_minor": 0,
  "metadata": {
    "colab": {
      "provenance": [],
      "authorship_tag": "ABX9TyPJr8zgNnt5WNs6Y77JwyXa",
      "include_colab_link": true
    },
    "kernelspec": {
      "name": "python3",
      "display_name": "Python 3"
    },
    "language_info": {
      "name": "python"
    }
  },
  "cells": [
    {
      "cell_type": "markdown",
      "metadata": {
        "id": "view-in-github",
        "colab_type": "text"
      },
      "source": [
        "<a href=\"https://colab.research.google.com/github/Sonam060703/Consultadd_Python_Training/blob/main/Exercises_2_Basics.ipynb\" target=\"_parent\"><img src=\"https://colab.research.google.com/assets/colab-badge.svg\" alt=\"Open In Colab\"/></a>"
      ]
    },
    {
      "cell_type": "markdown",
      "source": [
        "Write a function translate() that will translate a text into \"rövarspråket\" (Swedish for \"robber's language\"). That is, double every consonant and place an occurrence of \"o\" in between. For example, translate(\"this is fun\") should return the string \"tothohisos isos fofunon\"."
      ],
      "metadata": {
        "id": "olIAXA2n_p67"
      }
    },
    {
      "cell_type": "code",
      "source": [
        "txt = input(\"Enter text you want's to convert:\")"
      ],
      "metadata": {
        "colab": {
          "base_uri": "https://localhost:8080/"
        },
        "id": "2DRkY9X2AbA1",
        "outputId": "50e8d48f-43dd-492b-ca41-e36ed1f9a35d"
      },
      "execution_count": 4,
      "outputs": [
        {
          "name": "stdout",
          "output_type": "stream",
          "text": [
            "Enter text you want's to convert:this is fun\n"
          ]
        }
      ]
    },
    {
      "cell_type": "code",
      "source": [
        "def translate_text(txt):\n",
        "  vowel = \"aeiouAEIOU\"\n",
        "  translate = ''\n",
        "  for char in txt:\n",
        "    if char.isalpha() and char not in vowel:\n",
        "      translate = translate + char + 'o' + char\n",
        "    else:\n",
        "      translate += char\n",
        "  return translate"
      ],
      "metadata": {
        "id": "5ZyiNI6JBAVn"
      },
      "execution_count": 5,
      "outputs": []
    },
    {
      "cell_type": "code",
      "source": [
        "print(translate_text(txt))"
      ],
      "metadata": {
        "colab": {
          "base_uri": "https://localhost:8080/"
        },
        "id": "cxK0OTT3Bk9L",
        "outputId": "1691e655-2a59-46f3-f1bc-dd91007deaa0"
      },
      "execution_count": 6,
      "outputs": [
        {
          "output_type": "stream",
          "name": "stdout",
          "text": [
            "tothohisos isos fofunon\n"
          ]
        }
      ]
    },
    {
      "cell_type": "markdown",
      "source": [
        "Define a function sum() and a function multiply() that sums and multiplies (respectively) all the numbers in a list of numbers. For example, sum([1, 2, 3, 4]) should return 10, and multiply([1, 2, 3, 4]) should return 24"
      ],
      "metadata": {
        "id": "_PI9jHUtB_tX"
      }
    },
    {
      "cell_type": "code",
      "source": [
        "seq = input(\"Enter space seperated numbers:\")\n",
        "list = seq.split() ;"
      ],
      "metadata": {
        "colab": {
          "base_uri": "https://localhost:8080/"
        },
        "id": "ZYBLZlo_CKLD",
        "outputId": "b3e31fe9-1423-4282-b7c0-331620e70dcf"
      },
      "execution_count": 17,
      "outputs": [
        {
          "name": "stdout",
          "output_type": "stream",
          "text": [
            "Enter space seperated numbers:1 2 3 4\n"
          ]
        }
      ]
    },
    {
      "cell_type": "code",
      "source": [
        "def sum(list):\n",
        "  total_sum = 0\n",
        "  for i in list:\n",
        "    total_sum += int(i)\n",
        "  return total_sum"
      ],
      "metadata": {
        "id": "__u5BqT6Di3v"
      },
      "execution_count": 8,
      "outputs": []
    },
    {
      "cell_type": "code",
      "source": [
        "def multiply(list):\n",
        "  product = 1\n",
        "  for i in list:\n",
        "    product *= int(i)\n",
        "  return product"
      ],
      "metadata": {
        "id": "U7zxGZMID2ER"
      },
      "execution_count": 13,
      "outputs": []
    },
    {
      "cell_type": "code",
      "source": [
        "print(sum(list))\n",
        "print(multiply(list))"
      ],
      "metadata": {
        "colab": {
          "base_uri": "https://localhost:8080/"
        },
        "id": "wAusiaWEECFN",
        "outputId": "a87ea794-7465-4d43-9d8f-6c6bbe422c78"
      },
      "execution_count": 18,
      "outputs": [
        {
          "output_type": "stream",
          "name": "stdout",
          "text": [
            "10\n",
            "24\n"
          ]
        }
      ]
    },
    {
      "cell_type": "markdown",
      "source": [
        "Define a function reverse() that computes the reversal of a string. For example, reverse(\"I am testing\") should return the string \"gnitset ma I"
      ],
      "metadata": {
        "id": "4ugdltQdFwu1"
      }
    },
    {
      "cell_type": "code",
      "source": [
        "inp = input(\"Enter string you want to reverse:\")"
      ],
      "metadata": {
        "colab": {
          "base_uri": "https://localhost:8080/"
        },
        "id": "2pJf9oQ1F2w2",
        "outputId": "8a32f5c0-f9ef-4de0-bbe7-33c2d2bf14b1"
      },
      "execution_count": 19,
      "outputs": [
        {
          "name": "stdout",
          "output_type": "stream",
          "text": [
            "Enter string you want to reverse:I am testing\n"
          ]
        }
      ]
    },
    {
      "cell_type": "code",
      "source": [
        "def reverse_string(inp):\n",
        "  return inp[::-1]"
      ],
      "metadata": {
        "id": "pjvmtmXSGDTC"
      },
      "execution_count": 22,
      "outputs": []
    },
    {
      "cell_type": "code",
      "source": [
        "print(reverse_string(inp))"
      ],
      "metadata": {
        "colab": {
          "base_uri": "https://localhost:8080/"
        },
        "id": "49LfUMLSG6Bb",
        "outputId": "59e01c32-0abc-4fbd-b6ce-4f7d2b6c6f3c"
      },
      "execution_count": 23,
      "outputs": [
        {
          "output_type": "stream",
          "name": "stdout",
          "text": [
            "gnitset ma I\n"
          ]
        }
      ]
    },
    {
      "cell_type": "markdown",
      "source": [
        "Define a function is_palindrome() that recognizes palindromes (i.e. words that look the same written backwards). For example, is_palindrome(\"radar\") should return True"
      ],
      "metadata": {
        "id": "8vlNd-J0HXDK"
      }
    },
    {
      "cell_type": "code",
      "source": [
        "inp = input(\"Enter string: \")"
      ],
      "metadata": {
        "colab": {
          "base_uri": "https://localhost:8080/"
        },
        "id": "YxvqZ80XHenn",
        "outputId": "4e6141e2-2af1-4f57-8004-7245098da20f"
      },
      "execution_count": 32,
      "outputs": [
        {
          "name": "stdout",
          "output_type": "stream",
          "text": [
            "Enter string: radar\n"
          ]
        }
      ]
    },
    {
      "cell_type": "code",
      "source": [
        "def is_pallindrome(s):\n",
        "  i = 0\n",
        "  j = len(s) - 1\n",
        "  while i < j:\n",
        "    if s[i] == s[j]:\n",
        "      i += 1\n",
        "      j -= 1\n",
        "    else:\n",
        "      return False\n",
        "  return True"
      ],
      "metadata": {
        "id": "6UIbl9UPHkCi"
      },
      "execution_count": 28,
      "outputs": []
    },
    {
      "cell_type": "code",
      "source": [
        "print(is_pallindrome(inp))"
      ],
      "metadata": {
        "colab": {
          "base_uri": "https://localhost:8080/"
        },
        "id": "aXlwvJmbIaTA",
        "outputId": "acf595ff-d139-4a46-a38a-71ca1aa8f4e8"
      },
      "execution_count": 33,
      "outputs": [
        {
          "output_type": "stream",
          "name": "stdout",
          "text": [
            "True\n"
          ]
        }
      ]
    },
    {
      "cell_type": "markdown",
      "source": [
        "Write a function is_member() that takes a value (i.e. a number, string, etc) x and a list of values a, and returns True if x is a member of a, False otherwise."
      ],
      "metadata": {
        "id": "m-wEk3j7JI2s"
      }
    },
    {
      "cell_type": "code",
      "source": [
        "x = input(\"Enter value:\")\n",
        "inp = input(\"Enter space separated values\")\n",
        "a = inp.split()"
      ],
      "metadata": {
        "colab": {
          "base_uri": "https://localhost:8080/"
        },
        "id": "sScZsJkpJMtM",
        "outputId": "6283c64a-6301-4f61-d8a3-36f88bfd543b"
      },
      "execution_count": 39,
      "outputs": [
        {
          "name": "stdout",
          "output_type": "stream",
          "text": [
            "Enter value:x\n",
            "Enter space separated values12 3 4 x solo \n"
          ]
        }
      ]
    },
    {
      "cell_type": "code",
      "source": [
        "def is_member(list , val):\n",
        "  return val in list"
      ],
      "metadata": {
        "id": "UdcvDB-pKF4L"
      },
      "execution_count": 40,
      "outputs": []
    },
    {
      "cell_type": "code",
      "source": [
        "print(is_member(a , x))"
      ],
      "metadata": {
        "colab": {
          "base_uri": "https://localhost:8080/"
        },
        "id": "cLIQoYx8KbRK",
        "outputId": "eadf96cb-4319-4acb-bc5a-89884babc43c"
      },
      "execution_count": 41,
      "outputs": [
        {
          "output_type": "stream",
          "name": "stdout",
          "text": [
            "True\n"
          ]
        }
      ]
    },
    {
      "cell_type": "markdown",
      "source": [
        " Define a function overlapping() that takes two lists and returns True if they have at least one member in common, False otherwise. You may use your is_member() function, or the in operator, but for the sake of the exercise, you should (also) write it using two nested for-loops"
      ],
      "metadata": {
        "id": "7bstL6coLutz"
      }
    },
    {
      "cell_type": "code",
      "source": [
        "seq1 = input(\"Enter space separated values:\")\n",
        "seq2 = input(\"Enter space separated values:\")\n",
        "list1 = seq1.split()\n",
        "list2 = seq2.split()"
      ],
      "metadata": {
        "colab": {
          "base_uri": "https://localhost:8080/"
        },
        "id": "uKQY3x3kL-Pr",
        "outputId": "d17782b0-568a-444d-cc66-2ec55ca84725"
      },
      "execution_count": 45,
      "outputs": [
        {
          "name": "stdout",
          "output_type": "stream",
          "text": [
            "Enter space separated values:1 2 3 4 sona\n",
            "Enter space separated values:sona 5 6 7\n"
          ]
        }
      ]
    },
    {
      "cell_type": "code",
      "source": [
        "def overlapping1(list1 , list2):\n",
        "  for i in list1:\n",
        "    for j in list2:\n",
        "      if i == j:\n",
        "        return True\n",
        "  return False"
      ],
      "metadata": {
        "id": "5AyYa53eMu-D"
      },
      "execution_count": 43,
      "outputs": []
    },
    {
      "cell_type": "code",
      "source": [
        "def overlapping2(list1 , list2):\n",
        "  for i in list1:\n",
        "    if is_member(list2 , i):\n",
        "      return True\n",
        "  return False"
      ],
      "metadata": {
        "id": "xzKmJe40NYQ_"
      },
      "execution_count": 49,
      "outputs": []
    },
    {
      "cell_type": "code",
      "source": [
        "print(overlapping1(list1 , list2))"
      ],
      "metadata": {
        "colab": {
          "base_uri": "https://localhost:8080/"
        },
        "id": "AcfdkmFMNBYa",
        "outputId": "bffcc5c0-1c20-4479-ef11-9f3b200319cc"
      },
      "execution_count": 46,
      "outputs": [
        {
          "output_type": "stream",
          "name": "stdout",
          "text": [
            "True\n"
          ]
        }
      ]
    },
    {
      "cell_type": "code",
      "source": [
        "print(overlapping2(list1 , list2))"
      ],
      "metadata": {
        "colab": {
          "base_uri": "https://localhost:8080/"
        },
        "id": "tBUtgOXONtVL",
        "outputId": "2ce8ee15-e560-4ee9-91e2-494fec003081"
      },
      "execution_count": 50,
      "outputs": [
        {
          "output_type": "stream",
          "name": "stdout",
          "text": [
            "True\n"
          ]
        }
      ]
    },
    {
      "cell_type": "markdown",
      "source": [
        "Write a function char_freq() that takes a string and builds a frequency listing of the characters contained in it. Represent the frequency listing as a Python dictionary. Try it with something like char_freq(\"abbabcbdbabdbdbabababcbcbab\")."
      ],
      "metadata": {
        "id": "7Bq4KbfsNU2O"
      }
    },
    {
      "cell_type": "code",
      "source": [
        "str = input(\"Enter string: \")"
      ],
      "metadata": {
        "colab": {
          "base_uri": "https://localhost:8080/"
        },
        "id": "7HWuUNSxQiKU",
        "outputId": "46f02143-00ef-40b7-eb97-676cc4bd9576"
      },
      "execution_count": 1,
      "outputs": [
        {
          "name": "stdout",
          "output_type": "stream",
          "text": [
            "Enter string: abbabcbdbabdbdbabababcbcbab\n"
          ]
        }
      ]
    },
    {
      "cell_type": "code",
      "source": [
        "def char_freq(str):\n",
        "  freq = {}\n",
        "  for i in str:\n",
        "    if i in freq:\n",
        "      freq[i] += 1\n",
        "    else:\n",
        "      freq[i] = 1\n",
        "  return freq ;"
      ],
      "metadata": {
        "id": "-rA_Gqk9QsMZ"
      },
      "execution_count": 2,
      "outputs": []
    },
    {
      "cell_type": "code",
      "source": [
        "print(char_freq(str))"
      ],
      "metadata": {
        "colab": {
          "base_uri": "https://localhost:8080/"
        },
        "id": "GpMif1NnROm8",
        "outputId": "fc13f88a-619c-45b5-c369-902adfe0109d"
      },
      "execution_count": 3,
      "outputs": [
        {
          "output_type": "stream",
          "name": "stdout",
          "text": [
            "{'a': 7, 'b': 14, 'c': 3, 'd': 3}\n"
          ]
        }
      ]
    },
    {
      "cell_type": "markdown",
      "source": [
        "Write a program able to play the \"Guess the number\"-game, where the number to be guessed is randomly chosen between 1 and 20. (Source: http://inventwithpython.com) This is how it should work when run in a terminal:"
      ],
      "metadata": {
        "id": "wRtkGLL2Rw8u"
      }
    },
    {
      "cell_type": "markdown",
      "source": [
        "Hello! What is your name? Torbjörn Well, Torbjörn, I am thinking of a number between 1 and 20. Take a guess. 10 Your guess is too low. Take a guess. 15 Your guess is too low. Take a guess. 18 Good job, Torbjörn! You guessed my number in 3 guesses!"
      ],
      "metadata": {
        "id": "wEMt29TmSC-U"
      }
    },
    {
      "cell_type": "code",
      "source": [
        "import random"
      ],
      "metadata": {
        "id": "Q2mUts81U9as"
      },
      "execution_count": 4,
      "outputs": []
    },
    {
      "cell_type": "code",
      "source": [
        "def guess_the_number():\n",
        "  print(\"Hello! What is your name?\")\n",
        "  name = input()\n",
        "  print(\"Well, \" + name + \", I am thinking of a number between 1 and 20.\")\n",
        "  num = random.randint(1 , 20)\n",
        "  cnt = 0\n",
        "  while(True):\n",
        "    guess = input(\"Take a guess:\")\n",
        "    cnt += 1\n",
        "    if int(guess) < num:\n",
        "      print(\"Your guess is too Low.\")\n",
        "    elif int(guess) > num:\n",
        "      print(\"Your guess is too High.\")\n",
        "    else:\n",
        "      print(f\"Good job, {name}! You guessed my number in {cnt} guesses!\")\n",
        "      break\n"
      ],
      "metadata": {
        "id": "XnumHD4hTDH_"
      },
      "execution_count": 9,
      "outputs": []
    },
    {
      "cell_type": "code",
      "source": [
        "guess_the_number()"
      ],
      "metadata": {
        "colab": {
          "base_uri": "https://localhost:8080/"
        },
        "id": "m5D1gieXWM3L",
        "outputId": "5638f9a1-bb91-4a72-d469-32433c890b33"
      },
      "execution_count": 10,
      "outputs": [
        {
          "output_type": "stream",
          "name": "stdout",
          "text": [
            "Hello! What is your name?\n",
            "Sonam\n",
            "Well, Sonam, I am thinking of a number between 1 and 20.\n",
            "Take a guess:10\n",
            "Your guess is too Low.\n",
            "Take a guess:15\n",
            "Your guess is too Low.\n",
            "Take a guess:18\n",
            "Good job, Sonam! You guessed my number in 3 guesses!\n"
          ]
        }
      ]
    },
    {
      "cell_type": "markdown",
      "source": [
        "Write a program that maps a list of words into a list of integers representing the lengths of the correponding words."
      ],
      "metadata": {
        "id": "mcqZ6mBNXZB4"
      }
    },
    {
      "cell_type": "code",
      "source": [
        "seq = input(\"Enter space separated words: \")\n",
        "list_ip = seq.split()"
      ],
      "metadata": {
        "colab": {
          "base_uri": "https://localhost:8080/"
        },
        "id": "ZQNowo9zXcof",
        "outputId": "5ea40314-e30a-457a-fbb4-3204c6c21e53"
      },
      "execution_count": 11,
      "outputs": [
        {
          "name": "stdout",
          "output_type": "stream",
          "text": [
            "Enter space separated words: apple banana dog cat rat xtypjuhi\n"
          ]
        }
      ]
    },
    {
      "cell_type": "code",
      "source": [
        "list_op = []\n",
        "for i in list_ip:\n",
        "  list_op.append(len(i))\n",
        "print(list_op)"
      ],
      "metadata": {
        "colab": {
          "base_uri": "https://localhost:8080/"
        },
        "id": "V7y9CJIAYTWy",
        "outputId": "c6b5faba-48f3-436e-82aa-d77bd324c116"
      },
      "execution_count": 12,
      "outputs": [
        {
          "output_type": "stream",
          "name": "stdout",
          "text": [
            "[5, 6, 3, 3, 3, 8]\n"
          ]
        }
      ]
    }
  ]
}