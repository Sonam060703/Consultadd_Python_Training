{
  "nbformat": 4,
  "nbformat_minor": 0,
  "metadata": {
    "colab": {
      "provenance": [],
      "authorship_tag": "ABX9TyOim7XEaY6j74Z75GWfgiTD",
      "include_colab_link": true
    },
    "kernelspec": {
      "name": "python3",
      "display_name": "Python 3"
    },
    "language_info": {
      "name": "python"
    }
  },
  "cells": [
    {
      "cell_type": "markdown",
      "metadata": {
        "id": "view-in-github",
        "colab_type": "text"
      },
      "source": [
        "<a href=\"https://colab.research.google.com/github/Sonam060703/Consultadd_Python_Training/blob/main/Python_Practice_Exercises.ipynb\" target=\"_parent\"><img src=\"https://colab.research.google.com/assets/colab-badge.svg\" alt=\"Open In Colab\"/></a>"
      ]
    },
    {
      "cell_type": "markdown",
      "source": [
        "Write a Python program that accepts an integer (n) and computes the value of n+nn+nnn.\n",
        " Go to the editor\n",
        "Sample value of n is 5\n",
        "Expected Result : 615"
      ],
      "metadata": {
        "id": "ho018mlKrTnt"
      }
    },
    {
      "cell_type": "code",
      "source": [
        "n = int(input())\n",
        "print(n + int(str(n) + str(n)) + int(str(n) + str(n) + str(n)))"
      ],
      "metadata": {
        "colab": {
          "base_uri": "https://localhost:8080/"
        },
        "id": "yMIiH3lArYX-",
        "outputId": "86093d45-d3ad-46b4-d41d-0f09e98825fa"
      },
      "execution_count": 3,
      "outputs": [
        {
          "output_type": "stream",
          "name": "stdout",
          "text": [
            "5\n",
            "615\n"
          ]
        }
      ]
    },
    {
      "cell_type": "markdown",
      "source": [
        "Create a program that asks the user to enter their name and their age.\n",
        "Print out a message addressed to them that tells them the year that they will turn 100 years old."
      ],
      "metadata": {
        "id": "MbQwYY5yrlPD"
      }
    },
    {
      "cell_type": "code",
      "source": [
        "from datetime import datetime"
      ],
      "metadata": {
        "id": "wRcba_XXsTUt"
      },
      "execution_count": 4,
      "outputs": []
    },
    {
      "cell_type": "code",
      "source": [
        "name = input(\"Enter your name: \")\n",
        "age = int(input(\"Enter your age: \"))\n",
        "current_year = datetime.now().year\n",
        "print(f\"Hello {name} , You will turn 100 in {current_year + (100 - age)}\")"
      ],
      "metadata": {
        "colab": {
          "base_uri": "https://localhost:8080/"
        },
        "id": "NR5xvKyZs2TG",
        "outputId": "4c93e8f3-9341-4f67-bb35-757ff50e13a5"
      },
      "execution_count": 6,
      "outputs": [
        {
          "output_type": "stream",
          "name": "stdout",
          "text": [
            "Enter your name: Sonam\n",
            "Enter your age: 20\n",
            "Hello Sonam , You will turn 100 in 2105\n"
          ]
        }
      ]
    },
    {
      "cell_type": "markdown",
      "source": [
        "Write a Python program to check a triangle is valid or not\n"
      ],
      "metadata": {
        "id": "nJ5vPZKIt8or"
      }
    },
    {
      "cell_type": "code",
      "source": [
        "side1 = int(input(\"Enter side 1:\"))\n",
        "side2 = int(input(\"Enter side 2:\"))\n",
        "side3 = int(input(\"Enter side 3:\"))\n",
        "if side1 + side2 > side3 and side2 + side3 > side1 and side1 + side3 > side2:\n",
        "  print(\"The triangle is valid\")\n",
        "else:\n",
        "  print(\"The triangle is not valid\")"
      ],
      "metadata": {
        "colab": {
          "base_uri": "https://localhost:8080/"
        },
        "id": "NVxVTo-zuAVZ",
        "outputId": "35555b4e-badf-4045-8b19-2cd436118561"
      },
      "execution_count": 7,
      "outputs": [
        {
          "output_type": "stream",
          "name": "stdout",
          "text": [
            "Enter side 1:3\n",
            "Enter side 2:4\n",
            "Enter side 3:5\n",
            "The triangle is valid\n"
          ]
        }
      ]
    },
    {
      "cell_type": "markdown",
      "source": [
        "Write a Python program to construct the following pattern, using a nested loop number.\n",
        "\n",
        "\n",
        "```\n",
        "1\n",
        "22\n",
        "333\n",
        "4444\n",
        "55555\n",
        "666666\n",
        "7777777\n",
        "88888888\n",
        "999999999\n",
        "```\n"
      ],
      "metadata": {
        "id": "0uYUxdoMvNCl"
      }
    },
    {
      "cell_type": "code",
      "source": [
        "for i in range(1, 10):\n",
        "  print(str(i)*i)"
      ],
      "metadata": {
        "colab": {
          "base_uri": "https://localhost:8080/"
        },
        "id": "Elc_w-wEv3Qk",
        "outputId": "6f678a21-d72a-46d7-ddfa-55bab9fb0720"
      },
      "execution_count": 11,
      "outputs": [
        {
          "output_type": "stream",
          "name": "stdout",
          "text": [
            "1\n",
            "22\n",
            "333\n",
            "4444\n",
            "55555\n",
            "666666\n",
            "7777777\n",
            "88888888\n",
            "999999999\n"
          ]
        }
      ]
    },
    {
      "cell_type": "code",
      "source": [
        "for i in range(1,10):\n",
        "  for j in range(i):\n",
        "    print(i , end=\"\")\n",
        "  print()"
      ],
      "metadata": {
        "colab": {
          "base_uri": "https://localhost:8080/"
        },
        "id": "6hFkcnJ9w1Or",
        "outputId": "bbb204b8-ad55-45ab-d7cb-c182922f806f"
      },
      "execution_count": 12,
      "outputs": [
        {
          "output_type": "stream",
          "name": "stdout",
          "text": [
            "1\n",
            "22\n",
            "333\n",
            "4444\n",
            "55555\n",
            "666666\n",
            "7777777\n",
            "88888888\n",
            "999999999\n"
          ]
        }
      ]
    },
    {
      "cell_type": "markdown",
      "source": [
        "Write a Python program to construct the following pattern, using a nested for loop."
      ],
      "metadata": {
        "id": "xe83n2-wxgtp"
      }
    },
    {
      "cell_type": "markdown",
      "source": [
        "\n",
        "\n",
        "```\n",
        "*\n",
        "* *\n",
        "* * *\n",
        "* * * *\n",
        "* * * * *\n",
        "* * * *\n",
        "* * *\n",
        "* *\n",
        "*\n",
        "```\n",
        "\n"
      ],
      "metadata": {
        "id": "CfsvlTvXxlRg"
      }
    },
    {
      "cell_type": "code",
      "source": [
        "for i in range (1,6):\n",
        "  for j in range(i):\n",
        "    print(\"*\" , end=\" \")\n",
        "  print()\n",
        "for i in range(4,0,-1):\n",
        "  for j in range(i):\n",
        "    print(\"*\" , end=\" \")\n",
        "  print()"
      ],
      "metadata": {
        "colab": {
          "base_uri": "https://localhost:8080/"
        },
        "id": "MYuMHLVQx1kF",
        "outputId": "6cb44315-81f4-4dc5-c5b3-434c35438f7e"
      },
      "execution_count": 16,
      "outputs": [
        {
          "output_type": "stream",
          "name": "stdout",
          "text": [
            "* \n",
            "* * \n",
            "* * * \n",
            "* * * * \n",
            "* * * * * \n",
            "* * * * \n",
            "* * * \n",
            "* * \n",
            "* \n"
          ]
        }
      ]
    },
    {
      "cell_type": "code",
      "source": [
        "for i in range(1,6):\n",
        "  print(\"* \"*i)\n",
        "for i in range(4,0,-1):\n",
        "  print(\"* \"*i)"
      ],
      "metadata": {
        "colab": {
          "base_uri": "https://localhost:8080/"
        },
        "id": "gyEpaIV0y2TE",
        "outputId": "d0ef3f9e-5d8e-44dd-ca70-1410f1adbc2c"
      },
      "execution_count": 18,
      "outputs": [
        {
          "output_type": "stream",
          "name": "stdout",
          "text": [
            "* \n",
            "* * \n",
            "* * * \n",
            "* * * * \n",
            "* * * * * \n",
            "* * * * \n",
            "* * * \n",
            "* * \n",
            "* \n"
          ]
        }
      ]
    },
    {
      "cell_type": "markdown",
      "source": [
        "Write a Python program that accepts a string and calculate the number of digits and letters\n",
        "Sample Data : \"Python 3.2\" ||\n",
        "Expected Output :\n",
        "Letters -> 6 ,\n",
        "Digits -> 2"
      ],
      "metadata": {
        "id": "ILfgFgfzzHxY"
      }
    },
    {
      "cell_type": "code",
      "source": [
        "inp = input(\"Enter String: \")\n",
        "Letters = 0\n",
        "Digits = 0\n",
        "for i in inp:\n",
        "  if i.isalpha():\n",
        "    Letters += 1\n",
        "  elif i.isdigit():\n",
        "    Digits += 1\n",
        "print(f\"The given string contains :\")\n",
        "print(f\"Letters {Letters}\")\n",
        "print(f\"Digits {Digits}\")"
      ],
      "metadata": {
        "colab": {
          "base_uri": "https://localhost:8080/"
        },
        "id": "fdxUCYBfziV5",
        "outputId": "e3ed6e15-f7bf-4815-f9df-fc0f50f75dcd"
      },
      "execution_count": 19,
      "outputs": [
        {
          "output_type": "stream",
          "name": "stdout",
          "text": [
            "Enter String: Python 3.2\n",
            "The given string contains :\n",
            "Letters 6\n",
            "Digits 2\n"
          ]
        }
      ]
    },
    {
      "cell_type": "markdown",
      "source": [
        "Count the number of even and odd numbers from a series of numbers\n",
        "```\n",
        "Input :\n",
        "numbers = (1, 2, 3, 4, 5, 6, 7, 8, 9)\n",
        "Declaring the tuple\n",
        "Output\n",
        "Number of even numbers : 4                                    \n",
        "Number of odd numbers : 5\n",
        "\n",
        "```"
      ],
      "metadata": {
        "id": "1qKhNOvE1dYC"
      }
    },
    {
      "cell_type": "code",
      "source": [
        "numbers = (1, 2, 3, 4, 5, 6, 7, 8, 9)\n",
        "odd = 0\n",
        "even = 0\n",
        "for i in numbers:\n",
        "  if i%2:\n",
        "    odd += 1\n",
        "  else:\n",
        "    even += 1\n",
        "print(f\"Number of even numbers : {even}\")\n",
        "print(f\"Number of odd numbers : {odd}\")"
      ],
      "metadata": {
        "colab": {
          "base_uri": "https://localhost:8080/"
        },
        "id": "P7Zeim2b16Tn",
        "outputId": "8e3195b1-9c00-4e82-ab59-fbff84b2d747"
      },
      "execution_count": 20,
      "outputs": [
        {
          "output_type": "stream",
          "name": "stdout",
          "text": [
            "Number of even numbers : 4\n",
            "Number of odd numbers : 5\n"
          ]
        }
      ]
    }
  ]
}